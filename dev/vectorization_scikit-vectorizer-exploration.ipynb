{
 "cells": [
  {
   "cell_type": "code",
   "execution_count": 4,
   "metadata": {},
   "outputs": [],
   "source": [
    "import sys, os, re, gzip, json, pickle, shutil, random, joblib\n",
    "\n",
    "import numpy as np\n",
    "import pandas as pd\n",
    "import sklearn\n",
    "from sklearn.feature_extraction.text import CountVectorizer\n",
    "from sklearn.feature_extraction.text import TfidfVectorizer\n",
    "from sklearn.svm import LinearSVC\n",
    "from sklearn.neural_network import MLPClassifier\n",
    "from sklearn.decomposition import TruncatedSVD\n",
    "from sklearn.metrics import classification_report\n",
    "from sklearn.model_selection import cross_val_predict\n",
    "from sklearn.metrics import confusion_matrix\n",
    "from sklearn.metrics import ConfusionMatrixDisplay\n",
    "from sklearn.linear_model import LogisticRegression\n",
    "from sklearn.decomposition import TruncatedSVD\n",
    "\n",
    "from sklearn.manifold import TSNE\n",
    "from sklearn.cluster import AgglomerativeClustering\n",
    "import matplotlib.pyplot as plt\n",
    "\n",
    "%matplotlib inline"
   ]
  },
  {
   "cell_type": "code",
   "execution_count": 5,
   "metadata": {},
   "outputs": [],
   "source": [
    "data_path = '../data'\n",
    "\n",
    "# the path to the user and troll features\n",
    "\n",
    "user_feature_path = data_path + \"/user_features.pkl\"\n",
    "troll_feature_path = data_path + \"/troll_features.pkl\""
   ]
  },
  {
   "cell_type": "code",
   "execution_count": 6,
   "metadata": {},
   "outputs": [],
   "source": [
    "# pickle data\n",
    "\n",
    "def getDataFromPickle(path):\n",
    "    f = open(path, 'rb')\n",
    "    return pickle.load(f)"
   ]
  },
  {
   "cell_type": "code",
   "execution_count": 7,
   "metadata": {},
   "outputs": [],
   "source": [
    "# get data from pickle\n",
    "\n",
    "user_feature_list = getDataFromPickle(user_feature_path)\n",
    "troll_feature_list = getDataFromPickle(troll_feature_path)"
   ]
  },
  {
   "cell_type": "code",
   "execution_count": 8,
   "metadata": {},
   "outputs": [],
   "source": [
    "# combine the lists together\n",
    "\n",
    "combine = user_feature_list[:500000] + troll_feature_list[:500000]"
   ]
  },
  {
   "cell_type": "code",
   "execution_count": 9,
   "metadata": {},
   "outputs": [],
   "source": [
    "# shuffle the lists\n",
    "\n",
    "random.shuffle(combine)\n",
    "\n",
    "# create the y set by doing 0 for normal user and 1 if anything else\n",
    "y = [0 if f[\"type\"] == 'NormalUser' else 1 for f in combine]"
   ]
  },
  {
   "cell_type": "code",
   "execution_count": 10,
   "metadata": {},
   "outputs": [],
   "source": [
    "# open the pickle\n",
    "\n",
    "with gzip.open('../data/1000000_features_x.pkl.gz', 'wb') as oz:\n",
    "    pickle.dump(combine, oz)\n",
    "    \n",
    "with gzip.open('../data/1000000_features_y.pkl', 'wb') as o:\n",
    "    pickle.dump(y, o)"
   ]
  },
  {
   "cell_type": "code",
   "execution_count": 11,
   "metadata": {},
   "outputs": [],
   "source": [
    "# get a list of specifically lemmas and tokens\n",
    "\n",
    "lemmas = [f[\"lemmas\"] for f in combine]\n",
    "texts = [f[\"tokens\"] for f in combine]"
   ]
  },
  {
   "cell_type": "code",
   "execution_count": 12,
   "metadata": {},
   "outputs": [],
   "source": [
    "# clear the list because memory\n",
    "\n",
    "combine=user_feature_list=troll_feature_list=None"
   ]
  },
  {
   "cell_type": "code",
   "execution_count": 13,
   "metadata": {},
   "outputs": [
    {
     "data": {
      "text/plain": [
       "['1000000_tfidf_texts.joblib']"
      ]
     },
     "execution_count": 13,
     "metadata": {},
     "output_type": "execute_result"
    }
   ],
   "source": [
    "# run a vectorizer\n",
    "\n",
    "tfidf_vectorizer = TfidfVectorizer(max_features=50000, stop_words=\"english\")\n",
    "\n",
    "tfidf = tfidf_vectorizer.fit_transform(texts)\n",
    "\n",
    "joblib.dump(tfidf, '1000000_tfidf_texts.joblib') "
   ]
  },
  {
   "cell_type": "code",
   "execution_count": 14,
   "metadata": {},
   "outputs": [],
   "source": [
    "# divide into test and traid in a 9:1 split\n",
    "\n",
    "x_tfidf_train = tfidf[:-10000,:]\n",
    "y_tfidf_train = np.array(y[:-10000])\n",
    "x_tfidf_test = tfidf[-10000:,:]\n",
    "y_tfidf_test = np.array(y[-10000:])"
   ]
  },
  {
   "cell_type": "code",
   "execution_count": 15,
   "metadata": {},
   "outputs": [
    {
     "name": "stdout",
     "output_type": "stream",
     "text": [
      "0.9042\n"
     ]
    }
   ],
   "source": [
    "# run svm on the texts\n",
    "\n",
    "svm = LinearSVC(dual = False)\n",
    "svm.fit(x_tfidf_train, y_tfidf_train)\n",
    "print(svm.score(x_tfidf_test, y_tfidf_test))  "
   ]
  },
  {
   "cell_type": "code",
   "execution_count": 16,
   "metadata": {},
   "outputs": [],
   "source": [
    "# get predicted \n",
    "predicted = cross_val_predict(svm, x_tfidf_test, y_tfidf_test, cv=2)"
   ]
  },
  {
   "cell_type": "code",
   "execution_count": 17,
   "metadata": {},
   "outputs": [
    {
     "name": "stdout",
     "output_type": "stream",
     "text": [
      "              precision    recall  f1-score   support\n",
      "\n",
      "  NormalUser       0.79      0.84      0.81      4956\n",
      "   TrollUser       0.83      0.78      0.80      5044\n",
      "\n",
      "    accuracy                           0.81     10000\n",
      "   macro avg       0.81      0.81      0.81     10000\n",
      "weighted avg       0.81      0.81      0.81     10000\n",
      "\n"
     ]
    }
   ],
   "source": [
    "# print the classification report with normal user or troll users\n",
    "print(classification_report(y_tfidf_test, predicted, target_names=['NormalUser', 'TrollUser']))"
   ]
  },
  {
   "cell_type": "code",
   "execution_count": 18,
   "metadata": {},
   "outputs": [
    {
     "data": {
      "text/plain": [
       "<sklearn.metrics._plot.confusion_matrix.ConfusionMatrixDisplay at 0x1c57ab6e6c8>"
      ]
     },
     "execution_count": 18,
     "metadata": {},
     "output_type": "execute_result"
    },
    {
     "data": {
      "image/png": "[encoded data removed]",
      "text/plain": [
       "<Figure size 432x288 with 2 Axes>"
      ]
     },
     "metadata": {
      "needs_background": "light"
     },
     "output_type": "display_data"
    }
   ],
   "source": [
    "# show confusion matrix based on predicted\n",
    "\n",
    "cm = confusion_matrix(y_tfidf_test, predicted)\n",
    "cmd = ConfusionMatrixDisplay(cm, display_labels=['NormalUser', 'TrollUser'])\n",
    "cmd.plot()"
   ]
  },
  {
   "cell_type": "code",
   "execution_count": 19,
   "metadata": {},
   "outputs": [
    {
     "data": {
      "text/html": [
       "<div>\n",
       "<style scoped>\n",
       "    .dataframe tbody tr th:only-of-type {\n",
       "        vertical-align: middle;\n",
       "    }\n",
       "\n",
       "    .dataframe tbody tr th {\n",
       "        vertical-align: top;\n",
       "    }\n",
       "\n",
       "    .dataframe thead th {\n",
       "        text-align: right;\n",
       "    }\n",
       "</style>\n",
       "<table border=\"1\" class=\"dataframe\">\n",
       "  <thead>\n",
       "    <tr style=\"text-align: right;\">\n",
       "      <th></th>\n",
       "      <th>coefficient</th>\n",
       "      <th>word</th>\n",
       "    </tr>\n",
       "  </thead>\n",
       "  <tbody>\n",
       "    <tr>\n",
       "      <th>0</th>\n",
       "      <td>-5.364279</td>\n",
       "      <td>com</td>\n",
       "    </tr>\n",
       "    <tr>\n",
       "      <th>1</th>\n",
       "      <td>-3.881465</td>\n",
       "      <td>10news</td>\n",
       "    </tr>\n",
       "    <tr>\n",
       "      <th>2</th>\n",
       "      <td>-3.663028</td>\n",
       "      <td>nctimes</td>\n",
       "    </tr>\n",
       "    <tr>\n",
       "      <th>3</th>\n",
       "      <td>-3.611791</td>\n",
       "      <td>h1n1</td>\n",
       "    </tr>\n",
       "    <tr>\n",
       "      <th>4</th>\n",
       "      <td>-3.540477</td>\n",
       "      <td>youmightbealiberal</td>\n",
       "    </tr>\n",
       "    <tr>\n",
       "      <th>...</th>\n",
       "      <td>...</td>\n",
       "      <td>...</td>\n",
       "    </tr>\n",
       "    <tr>\n",
       "      <th>49995</th>\n",
       "      <td>5.928000</td>\n",
       "      <td>sports</td>\n",
       "    </tr>\n",
       "    <tr>\n",
       "      <th>49996</th>\n",
       "      <td>6.072881</td>\n",
       "      <td>realdonaldtrump</td>\n",
       "    </tr>\n",
       "    <tr>\n",
       "      <th>49997</th>\n",
       "      <td>6.264873</td>\n",
       "      <td>pjnet</td>\n",
       "    </tr>\n",
       "    <tr>\n",
       "      <th>49998</th>\n",
       "      <td>6.583970</td>\n",
       "      <td>amp</td>\n",
       "    </tr>\n",
       "    <tr>\n",
       "      <th>49999</th>\n",
       "      <td>7.349158</td>\n",
       "      <td>topnews</td>\n",
       "    </tr>\n",
       "  </tbody>\n",
       "</table>\n",
       "<p>50000 rows × 2 columns</p>\n",
       "</div>"
      ],
      "text/plain": [
       "       coefficient                word\n",
       "0        -5.364279                 com\n",
       "1        -3.881465              10news\n",
       "2        -3.663028             nctimes\n",
       "3        -3.611791                h1n1\n",
       "4        -3.540477  youmightbealiberal\n",
       "...            ...                 ...\n",
       "49995     5.928000              sports\n",
       "49996     6.072881     realdonaldtrump\n",
       "49997     6.264873               pjnet\n",
       "49998     6.583970                 amp\n",
       "49999     7.349158             topnews\n",
       "\n",
       "[50000 rows x 2 columns]"
      ]
     },
     "execution_count": 19,
     "metadata": {},
     "output_type": "execute_result"
    }
   ],
   "source": [
    "# show top feature names\n",
    "\n",
    "feature_names = tfidf_vectorizer.get_feature_names() \n",
    "coefs_with_fns = sorted(zip(svm.coef_[0], feature_names)) \n",
    "df = pd.DataFrame(coefs_with_fns)\n",
    "df.columns='coefficient','word'\n",
    "df.sort_values(by='coefficient')"
   ]
  },
  {
   "cell_type": "code",
   "execution_count": 20,
   "metadata": {},
   "outputs": [
    {
     "name": "stdout",
     "output_type": "stream",
     "text": [
      "    coefficient                word\n",
      "0     -5.364279                 com\n",
      "1     -3.881465              10news\n",
      "2     -3.663028             nctimes\n",
      "3     -3.611791                h1n1\n",
      "4     -3.540477  youmightbealiberal\n",
      "5     -3.400964                2009\n",
      "6     -3.385784                  39\n",
      "7     -3.361122                 hcr\n",
      "8     -3.280440            clenched\n",
      "9     -3.229279                cofc\n",
      "10    -3.226750                 www\n",
      "11    -3.225826               acorn\n",
      "12    -3.224701          proverbs29\n",
      "13    -3.217219              stupak\n",
      "14    -3.174971          proverbs28\n",
      "15    -3.162138                 dbj\n",
      "16    -3.081225                2010\n",
      "17    -3.040358        dawgfootball\n",
      "18    -3.017529                awsr\n",
      "19    -2.956625                amdt\n"
     ]
    }
   ],
   "source": [
    "# print the top 20\n",
    "print(df.head(20))"
   ]
  },
  {
   "cell_type": "code",
   "execution_count": 21,
   "metadata": {},
   "outputs": [
    {
     "name": "stdout",
     "output_type": "stream",
     "text": [
      "       coefficient                               word\n",
      "49980     4.511075               sextingwentwrongwhen\n",
      "49981     4.530341  alternativeacronyminterpretations\n",
      "49982     4.599883                              emoji\n",
      "49983     4.617403                       obamanextjob\n",
      "49984     4.834614                          worldnews\n",
      "49985     4.861291                           staywoke\n",
      "49986     4.994293        survivalguidetothanksgiving\n",
      "49987     5.098878                            stlouis\n",
      "49988     5.458258                       blacktwitter\n",
      "49989     5.509020                              trump\n",
      "49990     5.542363            todolistbeforechristmas\n",
      "49991     5.638179                           topvideo\n",
      "49992     5.639931                               2017\n",
      "49993     5.643614                               maga\n",
      "49994     5.708059                   blacklivesmatter\n",
      "49995     5.928000                             sports\n",
      "49996     6.072881                    realdonaldtrump\n",
      "49997     6.264873                              pjnet\n",
      "49998     6.583970                                amp\n",
      "49999     7.349158                            topnews\n"
     ]
    }
   ],
   "source": [
    "# print the lowest 20\n",
    "print(df.tail(20))"
   ]
  },
  {
   "cell_type": "code",
   "execution_count": 22,
   "metadata": {},
   "outputs": [
    {
     "name": "stdout",
     "output_type": "stream",
     "text": [
      "0.8999\n"
     ]
    }
   ],
   "source": [
    "# run logistic regression on the set\n",
    "lr = LogisticRegression(max_iter=2000)\n",
    "lr.fit(x_tfidf_train, y_tfidf_train)\n",
    "print(lr.score(x_tfidf_test, y_tfidf_test))  "
   ]
  },
  {
   "cell_type": "code",
   "execution_count": 23,
   "metadata": {},
   "outputs": [
    {
     "data": {
      "text/html": [
       "<div>\n",
       "<style scoped>\n",
       "    .dataframe tbody tr th:only-of-type {\n",
       "        vertical-align: middle;\n",
       "    }\n",
       "\n",
       "    .dataframe tbody tr th {\n",
       "        vertical-align: top;\n",
       "    }\n",
       "\n",
       "    .dataframe thead th {\n",
       "        text-align: right;\n",
       "    }\n",
       "</style>\n",
       "<table border=\"1\" class=\"dataframe\">\n",
       "  <thead>\n",
       "    <tr style=\"text-align: right;\">\n",
       "      <th></th>\n",
       "      <th>coefficient</th>\n",
       "      <th>word</th>\n",
       "    </tr>\n",
       "  </thead>\n",
       "  <tbody>\n",
       "    <tr>\n",
       "      <th>0</th>\n",
       "      <td>-13.974255</td>\n",
       "      <td>com</td>\n",
       "    </tr>\n",
       "    <tr>\n",
       "      <th>1</th>\n",
       "      <td>-9.808022</td>\n",
       "      <td>2009</td>\n",
       "    </tr>\n",
       "    <tr>\n",
       "      <th>2</th>\n",
       "      <td>-9.358992</td>\n",
       "      <td>39</td>\n",
       "    </tr>\n",
       "    <tr>\n",
       "      <th>3</th>\n",
       "      <td>-8.411807</td>\n",
       "      <td>2010</td>\n",
       "    </tr>\n",
       "    <tr>\n",
       "      <th>4</th>\n",
       "      <td>-8.019806</td>\n",
       "      <td>www</td>\n",
       "    </tr>\n",
       "    <tr>\n",
       "      <th>...</th>\n",
       "      <td>...</td>\n",
       "      <td>...</td>\n",
       "    </tr>\n",
       "    <tr>\n",
       "      <th>49995</th>\n",
       "      <td>13.272224</td>\n",
       "      <td>topvideo</td>\n",
       "    </tr>\n",
       "    <tr>\n",
       "      <th>49996</th>\n",
       "      <td>16.610280</td>\n",
       "      <td>trump</td>\n",
       "    </tr>\n",
       "    <tr>\n",
       "      <th>49997</th>\n",
       "      <td>17.229384</td>\n",
       "      <td>amp</td>\n",
       "    </tr>\n",
       "    <tr>\n",
       "      <th>49998</th>\n",
       "      <td>17.571181</td>\n",
       "      <td>sports</td>\n",
       "    </tr>\n",
       "    <tr>\n",
       "      <th>49999</th>\n",
       "      <td>18.722482</td>\n",
       "      <td>topnews</td>\n",
       "    </tr>\n",
       "  </tbody>\n",
       "</table>\n",
       "<p>50000 rows × 2 columns</p>\n",
       "</div>"
      ],
      "text/plain": [
       "       coefficient      word\n",
       "0       -13.974255       com\n",
       "1        -9.808022      2009\n",
       "2        -9.358992        39\n",
       "3        -8.411807      2010\n",
       "4        -8.019806       www\n",
       "...            ...       ...\n",
       "49995    13.272224  topvideo\n",
       "49996    16.610280     trump\n",
       "49997    17.229384       amp\n",
       "49998    17.571181    sports\n",
       "49999    18.722482   topnews\n",
       "\n",
       "[50000 rows x 2 columns]"
      ]
     },
     "execution_count": 23,
     "metadata": {},
     "output_type": "execute_result"
    }
   ],
   "source": [
    "# show the dataframe of it\n",
    "feature_names = tfidf_vectorizer.get_feature_names() \n",
    "coefs_with_fns = sorted(zip(lr.coef_[0], feature_names)) \n",
    "df = pd.DataFrame(coefs_with_fns)\n",
    "df.columns='coefficient','word'\n",
    "df.sort_values(by='coefficient')"
   ]
  },
  {
   "cell_type": "code",
   "execution_count": 24,
   "metadata": {},
   "outputs": [
    {
     "data": {
      "text/plain": [
       "['1000000_tfidf_lemmas.joblib']"
      ]
     },
     "execution_count": 24,
     "metadata": {},
     "output_type": "execute_result"
    }
   ],
   "source": [
    "# vectorize the lemmas\n",
    "tfidf_vectorizer_lemma = TfidfVectorizer(max_features=50000, stop_words=\"english\")\n",
    "\n",
    "tfidf_lemma = tfidf_vectorizer_lemma.fit_transform(lemmas)\n",
    "\n",
    "joblib.dump(tfidf, '1000000_tfidf_lemmas.joblib') "
   ]
  },
  {
   "cell_type": "code",
   "execution_count": 25,
   "metadata": {},
   "outputs": [],
   "source": [
    "# split 9:1 for lemma test train\n",
    "\n",
    "x_tfidf_train_lemma = tfidf_lemma[:-10000,:]\n",
    "y_tfidf_train_lemma = np.array(y[:-10000])\n",
    "x_tfidf_test_lemma = tfidf_lemma[-10000:,:]\n",
    "y_tfidf_test_lemma = np.array(y[-10000:])"
   ]
  },
  {
   "cell_type": "code",
   "execution_count": 26,
   "metadata": {},
   "outputs": [
    {
     "name": "stdout",
     "output_type": "stream",
     "text": [
      "0.8949\n"
     ]
    }
   ],
   "source": [
    "# use svc on the lemmas\n",
    "svm_lemma = LinearSVC(dual = False)\n",
    "svm_lemma.fit(x_tfidf_train_lemma, y_tfidf_train_lemma)\n",
    "print(svm_lemma.score(x_tfidf_test_lemma, y_tfidf_test_lemma))  "
   ]
  },
  {
   "cell_type": "code",
   "execution_count": 27,
   "metadata": {},
   "outputs": [],
   "source": [
    "# cross validate the lemmas\n",
    "predicted_lemma = cross_val_predict(svm_lemma, x_tfidf_test_lemma, y_tfidf_test_lemma, cv=2)"
   ]
  },
  {
   "cell_type": "code",
   "execution_count": 28,
   "metadata": {},
   "outputs": [
    {
     "name": "stdout",
     "output_type": "stream",
     "text": [
      "              precision    recall  f1-score   support\n",
      "\n",
      "  NormalUser       0.77      0.84      0.80      4956\n",
      "   TrollUser       0.83      0.75      0.79      5044\n",
      "\n",
      "    accuracy                           0.79     10000\n",
      "   macro avg       0.80      0.79      0.79     10000\n",
      "weighted avg       0.80      0.79      0.79     10000\n",
      "\n"
     ]
    }
   ],
   "source": [
    "# print the results\n",
    "print(classification_report(y_tfidf_test_lemma, predicted_lemma, target_names=['NormalUser', 'TrollUser']))"
   ]
  },
  {
   "cell_type": "code",
   "execution_count": 29,
   "metadata": {},
   "outputs": [
    {
     "data": {
      "text/plain": [
       "<sklearn.metrics._plot.confusion_matrix.ConfusionMatrixDisplay at 0x1c57e9f7d48>"
      ]
     },
     "execution_count": 29,
     "metadata": {},
     "output_type": "execute_result"
    },
    {
     "data": {
      "image/png": "[encoded data removed]",
      "text/plain": [
       "<Figure size 432x288 with 2 Axes>"
      ]
     },
     "metadata": {
      "needs_background": "light"
     },
     "output_type": "display_data"
    }
   ],
   "source": [
    "# confusion matrix on the lemmas\n",
    "cm_lemma = confusion_matrix(y_tfidf_test_lemma, predicted_lemma)\n",
    "cmd_lemma = ConfusionMatrixDisplay(cm_lemma, display_labels=['NormalUser', 'TrollUser'])\n",
    "cmd_lemma.plot()"
   ]
  },
  {
   "cell_type": "code",
   "execution_count": 30,
   "metadata": {},
   "outputs": [
    {
     "data": {
      "text/html": [
       "<div>\n",
       "<style scoped>\n",
       "    .dataframe tbody tr th:only-of-type {\n",
       "        vertical-align: middle;\n",
       "    }\n",
       "\n",
       "    .dataframe tbody tr th {\n",
       "        vertical-align: top;\n",
       "    }\n",
       "\n",
       "    .dataframe thead th {\n",
       "        text-align: right;\n",
       "    }\n",
       "</style>\n",
       "<table border=\"1\" class=\"dataframe\">\n",
       "  <thead>\n",
       "    <tr style=\"text-align: right;\">\n",
       "      <th></th>\n",
       "      <th>coefficient</th>\n",
       "      <th>word</th>\n",
       "    </tr>\n",
       "  </thead>\n",
       "  <tbody>\n",
       "    <tr>\n",
       "      <th>0</th>\n",
       "      <td>-4.851605</td>\n",
       "      <td>com</td>\n",
       "    </tr>\n",
       "    <tr>\n",
       "      <th>1</th>\n",
       "      <td>-3.763861</td>\n",
       "      <td>10news</td>\n",
       "    </tr>\n",
       "    <tr>\n",
       "      <th>2</th>\n",
       "      <td>-3.665420</td>\n",
       "      <td>nctime</td>\n",
       "    </tr>\n",
       "    <tr>\n",
       "      <th>3</th>\n",
       "      <td>-3.591998</td>\n",
       "      <td>h1n1</td>\n",
       "    </tr>\n",
       "    <tr>\n",
       "      <th>4</th>\n",
       "      <td>-3.567152</td>\n",
       "      <td>www</td>\n",
       "    </tr>\n",
       "    <tr>\n",
       "      <th>...</th>\n",
       "      <td>...</td>\n",
       "      <td>...</td>\n",
       "    </tr>\n",
       "    <tr>\n",
       "      <th>49995</th>\n",
       "      <td>5.697814</td>\n",
       "      <td>2017</td>\n",
       "    </tr>\n",
       "    <tr>\n",
       "      <th>49996</th>\n",
       "      <td>5.733560</td>\n",
       "      <td>maga</td>\n",
       "    </tr>\n",
       "    <tr>\n",
       "      <th>49997</th>\n",
       "      <td>5.959786</td>\n",
       "      <td>pjnet</td>\n",
       "    </tr>\n",
       "    <tr>\n",
       "      <th>49998</th>\n",
       "      <td>6.375840</td>\n",
       "      <td>amp</td>\n",
       "    </tr>\n",
       "    <tr>\n",
       "      <th>49999</th>\n",
       "      <td>6.673104</td>\n",
       "      <td>topnews</td>\n",
       "    </tr>\n",
       "  </tbody>\n",
       "</table>\n",
       "<p>50000 rows × 2 columns</p>\n",
       "</div>"
      ],
      "text/plain": [
       "       coefficient     word\n",
       "0        -4.851605      com\n",
       "1        -3.763861   10news\n",
       "2        -3.665420   nctime\n",
       "3        -3.591998     h1n1\n",
       "4        -3.567152      www\n",
       "...            ...      ...\n",
       "49995     5.697814     2017\n",
       "49996     5.733560     maga\n",
       "49997     5.959786    pjnet\n",
       "49998     6.375840      amp\n",
       "49999     6.673104  topnews\n",
       "\n",
       "[50000 rows x 2 columns]"
      ]
     },
     "execution_count": 30,
     "metadata": {},
     "output_type": "execute_result"
    }
   ],
   "source": [
    "# show df for feature names\n",
    "feature_names_lemma = tfidf_vectorizer_lemma.get_feature_names() \n",
    "coefs_with_fns_lemma = sorted(zip(svm_lemma.coef_[0], feature_names_lemma)) \n",
    "df_lemma = pd.DataFrame(coefs_with_fns_lemma)\n",
    "df_lemma.columns='coefficient','word'\n",
    "df_lemma.sort_values(by='coefficient')"
   ]
  },
  {
   "cell_type": "code",
   "execution_count": 31,
   "metadata": {},
   "outputs": [
    {
     "name": "stdout",
     "output_type": "stream",
     "text": [
      "    coefficient                word\n",
      "0     -4.851605                 com\n",
      "1     -3.763861              10news\n",
      "2     -3.665420              nctime\n",
      "3     -3.591998                h1n1\n",
      "4     -3.567152                 www\n",
      "5     -3.553856  youmightbealiberal\n",
      "6     -3.454131                 hcr\n",
      "7     -3.287720                cofc\n",
      "8     -3.263929              stupak\n",
      "9     -3.240421                awsr\n",
      "10    -3.203742          proverbs28\n",
      "11    -3.193957          proverbs29\n",
      "12    -3.180813                2009\n",
      "13    -3.135344               acorn\n",
      "14    -3.117598                  39\n",
      "15    -2.989577        dawgfootball\n",
      "16    -2.985274                  kt\n",
      "17    -2.954397                2010\n",
      "18    -2.953465                tbot\n",
      "19    -2.918213        youraudiofix\n"
     ]
    }
   ],
   "source": [
    "# print the top 20\n",
    "print(df_lemma.head(20))"
   ]
  },
  {
   "cell_type": "code",
   "execution_count": 32,
   "metadata": {},
   "outputs": [
    {
     "name": "stdout",
     "output_type": "stream",
     "text": [
      "       coefficient                       word\n",
      "49980     4.218748                        amb\n",
      "49981     4.219349                    hillary\n",
      "49982     4.528510  survivalguidetothanksgive\n",
      "49983     4.558540         christmasaftermath\n",
      "49984     4.614601                   staywoke\n",
      "49985     4.650542                    stlouis\n",
      "49986     5.049089                  worldnews\n",
      "49987     5.124169                 nowplaying\n",
      "49988     5.145565           blacklivesmatter\n",
      "49989     5.157339               blacktwitter\n",
      "49990     5.240431                      trump\n",
      "49991     5.407110                      sport\n",
      "49992     5.496959     todolistbeforechristma\n",
      "49993     5.498467            realdonaldtrump\n",
      "49994     5.499121                   topvideo\n",
      "49995     5.697814                       2017\n",
      "49996     5.733560                       maga\n",
      "49997     5.959786                      pjnet\n",
      "49998     6.375840                        amp\n",
      "49999     6.673104                    topnews\n"
     ]
    }
   ],
   "source": [
    "# print the lowest 20\n",
    "\n",
    "print(df_lemma.tail(20))"
   ]
  },
  {
   "cell_type": "code",
   "execution_count": 33,
   "metadata": {},
   "outputs": [
    {
     "name": "stdout",
     "output_type": "stream",
     "text": [
      "0.5104\n"
     ]
    }
   ],
   "source": [
    "# Logistic regression for lemmas\n",
    "\n",
    "lr_lemma = LogisticRegression(max_iter=2000)\n",
    "lr_lemma.fit(x_tfidf_train_lemma, y_tfidf_train_lemma)\n",
    "print(lr.score(x_tfidf_test_lemma, y_tfidf_test_lemma)) "
   ]
  },
  {
   "cell_type": "code",
   "execution_count": 34,
   "metadata": {},
   "outputs": [
    {
     "data": {
      "text/html": [
       "<div>\n",
       "<style scoped>\n",
       "    .dataframe tbody tr th:only-of-type {\n",
       "        vertical-align: middle;\n",
       "    }\n",
       "\n",
       "    .dataframe tbody tr th {\n",
       "        vertical-align: top;\n",
       "    }\n",
       "\n",
       "    .dataframe thead th {\n",
       "        text-align: right;\n",
       "    }\n",
       "</style>\n",
       "<table border=\"1\" class=\"dataframe\">\n",
       "  <thead>\n",
       "    <tr style=\"text-align: right;\">\n",
       "      <th></th>\n",
       "      <th>coefficient</th>\n",
       "      <th>word</th>\n",
       "    </tr>\n",
       "  </thead>\n",
       "  <tbody>\n",
       "    <tr>\n",
       "      <th>0</th>\n",
       "      <td>-13.974255</td>\n",
       "      <td>com</td>\n",
       "    </tr>\n",
       "    <tr>\n",
       "      <th>1</th>\n",
       "      <td>-9.808022</td>\n",
       "      <td>2009</td>\n",
       "    </tr>\n",
       "    <tr>\n",
       "      <th>2</th>\n",
       "      <td>-9.358992</td>\n",
       "      <td>39</td>\n",
       "    </tr>\n",
       "    <tr>\n",
       "      <th>3</th>\n",
       "      <td>-8.411807</td>\n",
       "      <td>2010</td>\n",
       "    </tr>\n",
       "    <tr>\n",
       "      <th>4</th>\n",
       "      <td>-8.019806</td>\n",
       "      <td>www</td>\n",
       "    </tr>\n",
       "    <tr>\n",
       "      <th>...</th>\n",
       "      <td>...</td>\n",
       "      <td>...</td>\n",
       "    </tr>\n",
       "    <tr>\n",
       "      <th>49995</th>\n",
       "      <td>13.272224</td>\n",
       "      <td>topvideo</td>\n",
       "    </tr>\n",
       "    <tr>\n",
       "      <th>49996</th>\n",
       "      <td>16.610280</td>\n",
       "      <td>trump</td>\n",
       "    </tr>\n",
       "    <tr>\n",
       "      <th>49997</th>\n",
       "      <td>17.229384</td>\n",
       "      <td>amp</td>\n",
       "    </tr>\n",
       "    <tr>\n",
       "      <th>49998</th>\n",
       "      <td>17.571181</td>\n",
       "      <td>sports</td>\n",
       "    </tr>\n",
       "    <tr>\n",
       "      <th>49999</th>\n",
       "      <td>18.722482</td>\n",
       "      <td>topnews</td>\n",
       "    </tr>\n",
       "  </tbody>\n",
       "</table>\n",
       "<p>50000 rows × 2 columns</p>\n",
       "</div>"
      ],
      "text/plain": [
       "       coefficient      word\n",
       "0       -13.974255       com\n",
       "1        -9.808022      2009\n",
       "2        -9.358992        39\n",
       "3        -8.411807      2010\n",
       "4        -8.019806       www\n",
       "...            ...       ...\n",
       "49995    13.272224  topvideo\n",
       "49996    16.610280     trump\n",
       "49997    17.229384       amp\n",
       "49998    17.571181    sports\n",
       "49999    18.722482   topnews\n",
       "\n",
       "[50000 rows x 2 columns]"
      ]
     },
     "execution_count": 34,
     "metadata": {},
     "output_type": "execute_result"
    }
   ],
   "source": [
    "# feature df for lemmas\n",
    "\n",
    "feature_names_lemma = tfidf_vectorizer_lemma.get_feature_names() \n",
    "coefs_with_fns_lemma = sorted(zip(lr_lemma.coef_[0], feature_names_lemma)) \n",
    "df_lemma = pd.DataFrame(coefs_with_fns)\n",
    "df_lemma.columns='coefficient','word'\n",
    "df_lemma.sort_values(by='coefficient')"
   ]
  },
  {
   "cell_type": "code",
   "execution_count": null,
   "metadata": {},
   "outputs": [],
   "source": []
  },
  {
   "cell_type": "code",
   "execution_count": null,
   "metadata": {},
   "outputs": [],
   "source": []
  }
 ],
 "metadata": {
  "kernelspec": {
   "display_name": "Python 3",
   "language": "python",
   "name": "python3"
  },
  "language_info": {
   "codemirror_mode": {
    "name": "ipython",
    "version": 3
   },
   "file_extension": ".py",
   "mimetype": "text/x-python",
   "name": "python",
   "nbconvert_exporter": "python",
   "pygments_lexer": "ipython3",
   "version": "3.7.7"
  }
 },
 "nbformat": 4,
 "nbformat_minor": 5
}
