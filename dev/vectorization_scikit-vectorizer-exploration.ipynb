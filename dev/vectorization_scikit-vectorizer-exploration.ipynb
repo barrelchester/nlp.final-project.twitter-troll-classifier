{
 "cells": [
  {
   "cell_type": "code",
   "execution_count": null,
   "id": "south-democrat",
   "metadata": {},
   "outputs": [],
   "source": [
    "import sys, os, re, gzip, json, pickle, shutil, random, joblib\n",
    "sys.path.append('../app')\n",
    "from config import Config\n",
    "\n",
    "import numpy as np\n",
    "import pandas as pd\n",
    "import sklearn\n",
    "from sklearn.feature_extraction.text import CountVectorizer\n",
    "from sklearn.feature_extraction.text import TfidfVectorizer\n",
    "from sklearn.svm import LinearSVC\n",
    "from sklearn.neural_network import MLPClassifier\n",
    "from sklearn.decomposition import TruncatedSVD\n",
    "from sklearn.metrics import classification_report\n",
    "from sklearn.model_selection import cross_val_predict\n",
    "from sklearn.metrics import confusion_matrix\n",
    "from sklearn.metrics import ConfusionMatrixDisplay\n",
    "from sklearn.linear_model import LogisticRegression\n",
    "from sklearn.decomposition import TruncatedSVD\n",
    "\n",
    "from sklearn.manifold import TSNE\n",
    "from sklearn.cluster import AgglomerativeClustering\n",
    "import matplotlib.pyplot as plt\n",
    "\n",
    "%matplotlib inline"
   ]
  },
  {
   "cell_type": "code",
   "execution_count": null,
   "id": "olympic-scanning",
   "metadata": {},
   "outputs": [],
   "source": [
    "config = Config()"
   ]
  },
  {
   "cell_type": "code",
   "execution_count": null,
   "id": "universal-louisville",
   "metadata": {},
   "outputs": [],
   "source": [
    "def getDataFromPickle(path):\n",
    "    f = open(path, 'rb')\n",
    "    return pickle.load(f)\n",
    "\n",
    "def getDataSet(config):\n",
    "    if os.path.exists(config.feature_x_path):\n",
    "        print('Loading existing balanced data subset 1000000_features_x.pkl.gz, 1000000_features_y.pkl.gz')\n",
    "        with gzip.open(config.feature_x_path, 'rb') as fz:\n",
    "            combine = pickle.load(fz)\n",
    "            \n",
    "        with gzip.open(config.feature_y_path, 'rb') as fz:\n",
    "            #int binary labels\n",
    "            y = pickle.load(fz)\n",
    "    else:\n",
    "        print('creating balanced data subset 1000000_features_x.pkl.gz, 1000000_features_y.pkl.gz')\n",
    "        user_feature_list = getDataFromPickle(config.user_features_path)\n",
    "        troll_feature_list = getDataFromPickle(config.troll_features_path)\n",
    "        \n",
    "        combine = user_feature_list[:500000] + troll_feature_list[:5000000]\n",
    "        \n",
    "        random.shuffle(combine)\n",
    "        \n",
    "        y = [0 if f[\"type\"] == 'NormalUser' else 1 for f in combine]\n",
    "        \n",
    "        with gzip.open('../data/1000000_features_x.pkl.gz', 'wb') as oz:\n",
    "            pickle.dump(combine, oz)\n",
    "\n",
    "        with gzip.open('../data/1000000_features_y.pkl', 'wb') as o:\n",
    "            pickle.dump(y, o)\n",
    "            \n",
    "    return combine, y"
   ]
  },
  {
   "cell_type": "code",
   "execution_count": null,
   "id": "competitive-kansas",
   "metadata": {},
   "outputs": [],
   "source": [
    "combine, y = getDataSet(config)"
   ]
  },
  {
   "cell_type": "code",
   "execution_count": null,
   "id": "handy-report",
   "metadata": {},
   "outputs": [],
   "source": [
    "lemmas = [f[\"lemmas\"] for f in combine]\n",
    "texts = [f[\"tokens\"] for f in combine]"
   ]
  },
  {
   "cell_type": "code",
   "execution_count": null,
   "id": "analyzed-holmes",
   "metadata": {},
   "outputs": [],
   "source": [
    "combine=None"
   ]
  },
  {
   "cell_type": "code",
   "execution_count": null,
   "id": "joined-responsibility",
   "metadata": {},
   "outputs": [],
   "source": [
    "tfidf_vectorizer = TfidfVectorizer(max_features=50000, stop_words=\"english\")\n",
    "\n",
    "tfidf = tfidf_vectorizer.fit_transform(texts)\n",
    "\n",
    "joblib.dump(tfidf, '1000000_tfidf_texts.joblib') "
   ]
  },
  {
   "cell_type": "code",
   "execution_count": null,
   "id": "seven-luxembourg",
   "metadata": {},
   "outputs": [],
   "source": [
    "x_tfidf_train = tfidf[:-10000,:]\n",
    "y_tfidf_train = np.array(y[:-10000])\n",
    "x_tfidf_test = tfidf[-10000:,:]\n",
    "y_tfidf_test = np.array(y[-10000:])"
   ]
  },
  {
   "cell_type": "code",
   "execution_count": null,
   "id": "final-fruit",
   "metadata": {},
   "outputs": [],
   "source": [
    "svm = LinearSVC(dual = False)\n",
    "svm.fit(x_tfidf_train, y_tfidf_train)\n",
    "print(svm.score(x_tfidf_test, y_tfidf_test))  "
   ]
  },
  {
   "cell_type": "code",
   "execution_count": null,
   "id": "communist-discount",
   "metadata": {},
   "outputs": [],
   "source": [
    "predicted = cross_val_predict(svm, x_tfidf_test, y_tfidf_test, cv=2)"
   ]
  },
  {
   "cell_type": "code",
   "execution_count": null,
   "id": "english-glenn",
   "metadata": {},
   "outputs": [],
   "source": [
    "print(classification_report(y_tfidf_test, predicted, target_names=['NormalUser', 'TrollUser']))"
   ]
  },
  {
   "cell_type": "code",
   "execution_count": null,
   "id": "japanese-floating",
   "metadata": {},
   "outputs": [],
   "source": [
    "cm = confusion_matrix(y_tfidf_test, predicted)\n",
    "cmd = ConfusionMatrixDisplay(cm, display_labels=['NormalUser', 'TrollUser'])\n",
    "cmd.plot()"
   ]
  },
  {
   "cell_type": "code",
   "execution_count": null,
   "id": "listed-tobago",
   "metadata": {},
   "outputs": [],
   "source": [
    "feature_names = tfidf_vectorizer.get_feature_names() \n",
    "coefs_with_fns = sorted(zip(svm.coef_[0], feature_names)) \n",
    "df = pd.DataFrame(coefs_with_fns)\n",
    "df.columns='coefficient','word'\n",
    "df.sort_values(by='coefficient')"
   ]
  },
  {
   "cell_type": "code",
   "execution_count": null,
   "id": "visible-mongolia",
   "metadata": {},
   "outputs": [],
   "source": [
    "print(df.head(20))"
   ]
  },
  {
   "cell_type": "code",
   "execution_count": null,
   "id": "rough-eight",
   "metadata": {},
   "outputs": [],
   "source": [
    "print(df.tail(20))"
   ]
  },
  {
   "cell_type": "code",
   "execution_count": null,
   "id": "dried-worcester",
   "metadata": {},
   "outputs": [],
   "source": [
    "lr = LogisticRegression(max_iter=2000)\n",
    "lr.fit(x_tfidf_train, y_tfidf_train)\n",
    "print(lr.score(x_tfidf_test, y_tfidf_test))  "
   ]
  },
  {
   "cell_type": "code",
   "execution_count": null,
   "id": "fundamental-huntington",
   "metadata": {},
   "outputs": [],
   "source": [
    "feature_names = tfidf_vectorizer.get_feature_names() \n",
    "coefs_with_fns = sorted(zip(lr.coef_[0], feature_names)) \n",
    "df = pd.DataFrame(coefs_with_fns)\n",
    "df.columns='coefficient','word'\n",
    "df.sort_values(by='coefficient')"
   ]
  },
  {
   "cell_type": "code",
   "execution_count": null,
   "id": "academic-planning",
   "metadata": {},
   "outputs": [],
   "source": [
    "tfidf_vectorizer_lemma = TfidfVectorizer(max_features=50000, stop_words=\"english\")\n",
    "\n",
    "tfidf_lemma = tfidf_vectorizer_lemma.fit_transform(lemmas)\n",
    "\n",
    "joblib.dump(tfidf, '1000000_tfidf_lemmas.joblib') "
   ]
  },
  {
   "cell_type": "code",
   "execution_count": null,
   "id": "saved-radio",
   "metadata": {},
   "outputs": [],
   "source": [
    "x_tfidf_train_lemma = tfidf_lemma[:-10000,:]\n",
    "y_tfidf_train_lemma = np.array(y[:-10000])\n",
    "x_tfidf_test_lemma = tfidf_lemma[-10000:,:]\n",
    "y_tfidf_test_lemma = np.array(y[-10000:])"
   ]
  },
  {
   "cell_type": "code",
   "execution_count": null,
   "id": "electoral-pavilion",
   "metadata": {},
   "outputs": [],
   "source": [
    "svm_lemma = LinearSVC(dual = False)\n",
    "svm_lemma.fit(x_tfidf_train_lemma, y_tfidf_train_lemma)\n",
    "print(svm_lemma.score(x_tfidf_test_lemma, y_tfidf_test_lemma))  "
   ]
  },
  {
   "cell_type": "code",
   "execution_count": null,
   "id": "ruled-tribute",
   "metadata": {},
   "outputs": [],
   "source": [
    "predicted_lemma = cross_val_predict(svm_lemma, x_tfidf_test_lemma, y_tfidf_test_lemma, cv=2)"
   ]
  },
  {
   "cell_type": "code",
   "execution_count": null,
   "id": "organizational-entrepreneur",
   "metadata": {},
   "outputs": [],
   "source": [
    "print(classification_report(y_tfidf_test_lemma, predicted_lemma, target_names=['NormalUser', 'TrollUser']))"
   ]
  },
  {
   "cell_type": "code",
   "execution_count": null,
   "id": "instant-medium",
   "metadata": {},
   "outputs": [],
   "source": [
    "cm_lemma = confusion_matrix(y_tfidf_test_lemma, predicted_lemma)\n",
    "cmd_lemma = ConfusionMatrixDisplay(cm_lemma, display_labels=['NormalUser', 'TrollUser'])\n",
    "cmd_lemma.plot()"
   ]
  },
  {
   "cell_type": "code",
   "execution_count": null,
   "id": "constitutional-google",
   "metadata": {},
   "outputs": [],
   "source": [
    "feature_names_lemma = tfidf_vectorizer_lemma.get_feature_names() \n",
    "coefs_with_fns_lemma = sorted(zip(svm_lemma.coef_[0], feature_names_lemma)) \n",
    "df_lemma = pd.DataFrame(coefs_with_fns_lemma)\n",
    "df_lemma.columns='coefficient','word'\n",
    "df_lemma.sort_values(by='coefficient')"
   ]
  },
  {
   "cell_type": "code",
   "execution_count": null,
   "id": "binary-friendship",
   "metadata": {},
   "outputs": [],
   "source": [
    "print(df_lemma.head(20))"
   ]
  },
  {
   "cell_type": "code",
   "execution_count": null,
   "id": "reduced-supplement",
   "metadata": {},
   "outputs": [],
   "source": [
    "print(df_lemma.tail(20))"
   ]
  },
  {
   "cell_type": "code",
   "execution_count": null,
   "id": "fourth-station",
   "metadata": {},
   "outputs": [],
   "source": [
    "lr_lemma = LogisticRegression(max_iter=2000)\n",
    "lr_lemma.fit(x_tfidf_train_lemma, y_tfidf_train_lemma)\n",
    "print(lr.score(x_tfidf_test_lemma, y_tfidf_test_lemma)) "
   ]
  },
  {
   "cell_type": "code",
   "execution_count": null,
   "id": "smooth-grade",
   "metadata": {},
   "outputs": [],
   "source": [
    "feature_names_lemma = tfidf_vectorizer_lemma.get_feature_names() \n",
    "coefs_with_fns_lemma = sorted(zip(lr_lemma.coef_[0], feature_names_lemma)) \n",
    "df_lemma = pd.DataFrame(coefs_with_fns)\n",
    "df_lemma.columns='coefficient','word'\n",
    "df_lemma.sort_values(by='coefficient')"
   ]
  }
 ],
 "metadata": {
  "kernelspec": {
   "display_name": "Python 3",
   "language": "python",
   "name": "python3"
  },
  "language_info": {
   "codemirror_mode": {
    "name": "ipython",
    "version": 3
   },
   "file_extension": ".py",
   "mimetype": "text/x-python",
   "name": "python",
   "nbconvert_exporter": "python",
   "pygments_lexer": "ipython3",
   "version": "3.9.1"
  }
 },
 "nbformat": 4,
 "nbformat_minor": 5
}
