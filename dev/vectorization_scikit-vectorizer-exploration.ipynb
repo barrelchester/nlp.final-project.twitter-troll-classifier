{
 "cells": [
  {
   "cell_type": "code",
   "execution_count": 34,
   "metadata": {},
   "outputs": [],
   "source": [
    "import sys, os, re, gzip, json, pickle, shutil, random, joblib\n",
    "\n",
    "import numpy as np\n",
    "import pandas as pd\n",
    "import sklearn\n",
    "from sklearn.feature_extraction.text import CountVectorizer\n",
    "from sklearn.feature_extraction.text import TfidfVectorizer\n",
    "from sklearn.svm import LinearSVC\n",
    "from sklearn.neural_network import MLPClassifier\n",
    "from sklearn.decomposition import TruncatedSVD\n",
    "from sklearn.metrics import classification_report\n",
    "from sklearn.model_selection import cross_val_predict\n",
    "from sklearn.metrics import confusion_matrix\n",
    "from sklearn.metrics import ConfusionMatrixDisplay\n",
    "\n",
    "from sklearn.manifold import TSNE\n",
    "from sklearn.cluster import AgglomerativeClustering\n",
    "import matplotlib.pyplot as plt\n",
    "\n",
    "%matplotlib inline"
   ]
  },
  {
   "cell_type": "code",
   "execution_count": 2,
   "metadata": {},
   "outputs": [],
   "source": [
    "data_path = '../data'\n",
    "\n",
    "user_tag_path = data_path + \"/user_tweets_tagged.pkl\"\n",
    "user_clean_path = data_path + \"/user_tweets_clean.pkl\"\n",
    "troll_tag_path = data_path + \"/troll_tweets_tagged.pkl\"\n",
    "troll_clean_path = data_path + \"/troll_tweets_clean.pkl\""
   ]
  },
  {
   "cell_type": "code",
   "execution_count": 3,
   "metadata": {},
   "outputs": [],
   "source": [
    "def getDataFromPickle(path):\n",
    "    f = open(path, 'rb')\n",
    "    return pickle.load(f)"
   ]
  },
  {
   "cell_type": "code",
   "execution_count": 4,
   "metadata": {},
   "outputs": [],
   "source": [
    "user_tag_list = getDataFromPickle(user_tag_path)\n",
    "user_clean_list = getDataFromPickle(user_clean_path)\n",
    "troll_tag_list = getDataFromPickle(troll_tag_path)\n",
    "troll_clean_list = getDataFromPickle(troll_clean_path)"
   ]
  },
  {
   "cell_type": "code",
   "execution_count": 5,
   "metadata": {},
   "outputs": [],
   "source": [
    "combine = user_tag_list[:500000] + troll_tag_list[:5000000]"
   ]
  },
  {
   "cell_type": "code",
   "execution_count": 7,
   "metadata": {},
   "outputs": [],
   "source": [
    "random.shuffle(combine)\n",
    "y = [0 if f.startswith('NormalUser') else 1 for f in combine]"
   ]
  },
  {
   "cell_type": "code",
   "execution_count": 9,
   "metadata": {},
   "outputs": [],
   "source": [
    "with gzip.open('../data/1000000_features_x.pkl.gz', 'wb') as oz:\n",
    "    pickle.dump(combine, oz)\n",
    "    \n",
    "with gzip.open('../data/1000000_features_y.pkl', 'wb') as o:\n",
    "    pickle.dump(y, o)"
   ]
  },
  {
   "cell_type": "code",
   "execution_count": 11,
   "metadata": {},
   "outputs": [],
   "source": [
    "texts = [f.split(\"\\t\")[1] for f in combine]"
   ]
  },
  {
   "cell_type": "code",
   "execution_count": 12,
   "metadata": {},
   "outputs": [],
   "source": [
    "combine=user_tag_list=user_clean_list=troll_tag_list=troll_clean_list=None"
   ]
  },
  {
   "cell_type": "code",
   "execution_count": 13,
   "metadata": {},
   "outputs": [
    {
     "data": {
      "text/plain": [
       "['1000000_tfidf_lemmas.joblib']"
      ]
     },
     "execution_count": 13,
     "metadata": {},
     "output_type": "execute_result"
    }
   ],
   "source": [
    "tfidf_vectorizer = TfidfVectorizer(max_features=50000, stop_words=\"english\")\n",
    "\n",
    "tfidf = tfidf_vectorizer.fit_transform(texts)\n",
    "\n",
    "joblib.dump(tfidf, '1000000_tfidf_lemmas.joblib') "
   ]
  },
  {
   "cell_type": "code",
   "execution_count": 14,
   "metadata": {},
   "outputs": [],
   "source": [
    "x_tfidf_train = tfidf[:-10000,:]\n",
    "y_tfidf_train = np.array(y[:-10000])\n",
    "x_tfidf_test = tfidf[-10000:,:]\n",
    "y_tfidf_test = np.array(y[-10000:])"
   ]
  },
  {
   "cell_type": "code",
   "execution_count": 19,
   "metadata": {},
   "outputs": [
    {
     "name": "stdout",
     "output_type": "stream",
     "text": [
      "0.9317\n"
     ]
    }
   ],
   "source": [
    "svm = LinearSVC(dual = False)\n",
    "svm.fit(x_tfidf_train, y_tfidf_train)\n",
    "print(svm.score(x_tfidf_test, y_tfidf_test))  "
   ]
  },
  {
   "cell_type": "code",
   "execution_count": 28,
   "metadata": {},
   "outputs": [],
   "source": [
    "predicted = cross_val_predict(svm, x_tfidf_test, y_tfidf_test, cv=2)"
   ]
  },
  {
   "cell_type": "code",
   "execution_count": 30,
   "metadata": {},
   "outputs": [
    {
     "name": "stdout",
     "output_type": "stream",
     "text": [
      "              precision    recall  f1-score   support\n",
      "\n",
      "  Basic User       0.69      0.26      0.38      1429\n",
      "       Troll       0.89      0.98      0.93      8571\n",
      "\n",
      "    accuracy                           0.88     10000\n",
      "   macro avg       0.79      0.62      0.65     10000\n",
      "weighted avg       0.86      0.88      0.85     10000\n",
      "\n"
     ]
    }
   ],
   "source": [
    "print(classification_report(y_tfidf_test, predicted, target_names=['NormalUser', 'TrollUser']))"
   ]
  },
  {
   "cell_type": "code",
   "execution_count": 35,
   "metadata": {},
   "outputs": [
    {
     "data": {
      "text/plain": [
       "<sklearn.metrics._plot.confusion_matrix.ConfusionMatrixDisplay at 0x2024228bb88>"
      ]
     },
     "execution_count": 35,
     "metadata": {},
     "output_type": "execute_result"
    },
    {
     "data": {
      "image/png": "[encoded data removed]",
      "text/plain": [
       "<Figure size 432x288 with 2 Axes>"
      ]
     },
     "metadata": {
      "needs_background": "light"
     },
     "output_type": "display_data"
    }
   ],
   "source": [
    "cm = confusion_matrix(y_tfidf_test, predicted)\n",
    "cmd = ConfusionMatrixDisplay(cm, display_labels=['NormalUser', 'TrollUser'])\n",
    "cmd.plot()"
   ]
  },
  {
   "cell_type": "code",
   "execution_count": 36,
   "metadata": {},
   "outputs": [
    {
     "data": {
      "text/html": [
       "<div>\n",
       "<style scoped>\n",
       "    .dataframe tbody tr th:only-of-type {\n",
       "        vertical-align: middle;\n",
       "    }\n",
       "\n",
       "    .dataframe tbody tr th {\n",
       "        vertical-align: top;\n",
       "    }\n",
       "\n",
       "    .dataframe thead th {\n",
       "        text-align: right;\n",
       "    }\n",
       "</style>\n",
       "<table border=\"1\" class=\"dataframe\">\n",
       "  <thead>\n",
       "    <tr style=\"text-align: right;\">\n",
       "      <th></th>\n",
       "      <th>coefficient</th>\n",
       "      <th>word</th>\n",
       "    </tr>\n",
       "  </thead>\n",
       "  <tbody>\n",
       "    <tr>\n",
       "      <th>0</th>\n",
       "      <td>-4.430062</td>\n",
       "      <td>nctimes</td>\n",
       "    </tr>\n",
       "    <tr>\n",
       "      <th>1</th>\n",
       "      <td>-4.128822</td>\n",
       "      <td>10news</td>\n",
       "    </tr>\n",
       "    <tr>\n",
       "      <th>2</th>\n",
       "      <td>-4.074323</td>\n",
       "      <td>com</td>\n",
       "    </tr>\n",
       "    <tr>\n",
       "      <th>3</th>\n",
       "      <td>-4.009617</td>\n",
       "      <td>corzine</td>\n",
       "    </tr>\n",
       "    <tr>\n",
       "      <th>4</th>\n",
       "      <td>-4.000654</td>\n",
       "      <td>h1n1</td>\n",
       "    </tr>\n",
       "    <tr>\n",
       "      <th>...</th>\n",
       "      <td>...</td>\n",
       "      <td>...</td>\n",
       "    </tr>\n",
       "    <tr>\n",
       "      <th>49995</th>\n",
       "      <td>5.458513</td>\n",
       "      <td>todolistbeforechristmas</td>\n",
       "    </tr>\n",
       "    <tr>\n",
       "      <th>49996</th>\n",
       "      <td>5.525509</td>\n",
       "      <td>blacklivesmatter</td>\n",
       "    </tr>\n",
       "    <tr>\n",
       "      <th>49997</th>\n",
       "      <td>5.827339</td>\n",
       "      <td>pjnet</td>\n",
       "    </tr>\n",
       "    <tr>\n",
       "      <th>49998</th>\n",
       "      <td>5.857754</td>\n",
       "      <td>2017</td>\n",
       "    </tr>\n",
       "    <tr>\n",
       "      <th>49999</th>\n",
       "      <td>6.179125</td>\n",
       "      <td>amp</td>\n",
       "    </tr>\n",
       "  </tbody>\n",
       "</table>\n",
       "<p>50000 rows × 2 columns</p>\n",
       "</div>"
      ],
      "text/plain": [
       "       coefficient                     word\n",
       "0        -4.430062                  nctimes\n",
       "1        -4.128822                   10news\n",
       "2        -4.074323                      com\n",
       "3        -4.009617                  corzine\n",
       "4        -4.000654                     h1n1\n",
       "...            ...                      ...\n",
       "49995     5.458513  todolistbeforechristmas\n",
       "49996     5.525509         blacklivesmatter\n",
       "49997     5.827339                    pjnet\n",
       "49998     5.857754                     2017\n",
       "49999     6.179125                      amp\n",
       "\n",
       "[50000 rows x 2 columns]"
      ]
     },
     "execution_count": 36,
     "metadata": {},
     "output_type": "execute_result"
    }
   ],
   "source": [
    "feature_names = tfidf_vectorizer.get_feature_names() \n",
    "coefs_with_fns = sorted(zip(svm.coef_[0], feature_names)) \n",
    "df = pd.DataFrame(coefs_with_fns)\n",
    "df.columns='coefficient','word'\n",
    "df.sort_values(by='coefficient')"
   ]
  },
  {
   "cell_type": "code",
   "execution_count": 41,
   "metadata": {},
   "outputs": [
    {
     "name": "stdout",
     "output_type": "stream",
     "text": [
      "    coefficient                word\n",
      "0     -4.430062             nctimes\n",
      "1     -4.128822              10news\n",
      "2     -4.074323                 com\n",
      "3     -4.009617             corzine\n",
      "4     -4.000654                h1n1\n",
      "5     -3.964266              stupak\n",
      "6     -3.835097                 hcr\n",
      "7     -3.753441             olemiss\n",
      "8     -3.578164                awsr\n",
      "9     -3.532251        youraudiofix\n",
      "10    -3.515487                cnen\n",
      "11    -3.464167               cagop\n",
      "12    -3.454993             tisdale\n",
      "13    -3.436465              shjobs\n",
      "14    -3.395425        worldcupdraw\n",
      "15    -3.381207  youmightbealiberal\n",
      "16    -3.294640                2009\n",
      "17    -3.274773                noh8\n",
      "18    -3.247141              lastfm\n",
      "19    -3.211359      businessonline\n"
     ]
    }
   ],
   "source": [
    "print(df.head(20))"
   ]
  },
  {
   "cell_type": "code",
   "execution_count": 42,
   "metadata": {},
   "outputs": [
    {
     "name": "stdout",
     "output_type": "stream",
     "text": [
      "       coefficient                         word\n",
      "49980     4.663398                  1000network\n",
      "49981     4.665743                 toavoidworki\n",
      "49982     4.703470                 mustbebanned\n",
      "49983     4.725776                        emoji\n",
      "49984     4.749246                     staywoke\n",
      "49985     4.772114                 podernfamily\n",
      "49986     4.965885                   newsonenow\n",
      "49987     4.985357                        trump\n",
      "49988     5.015020  survivalguidetothanksgiving\n",
      "49989     5.054475              realdonaldtrump\n",
      "49990     5.109617          thingsyoucantignore\n",
      "49991     5.166422                 blacktwitter\n",
      "49992     5.248803                         maga\n",
      "49993     5.337272                         topl\n",
      "49994     5.456258            igetdepressedwhen\n",
      "49995     5.458513      todolistbeforechristmas\n",
      "49996     5.525509             blacklivesmatter\n",
      "49997     5.827339                        pjnet\n",
      "49998     5.857754                         2017\n",
      "49999     6.179125                          amp\n"
     ]
    }
   ],
   "source": [
    "print(df.tail(20))"
   ]
  },
  {
   "cell_type": "code",
   "execution_count": null,
   "metadata": {},
   "outputs": [],
   "source": []
  }
 ],
 "metadata": {
  "kernelspec": {
   "display_name": "Python 3",
   "language": "python",
   "name": "python3"
  }
 },
 "nbformat": 4,
 "nbformat_minor": 5
}
