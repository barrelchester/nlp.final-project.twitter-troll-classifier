{
 "cells": [
  {
   "cell_type": "code",
   "execution_count": 23,
   "metadata": {},
   "outputs": [],
   "source": [
    "import sys, os, re, gzip, json, pickle, shutil, random, joblib\n",
    "\n",
    "import numpy as np\n",
    "import pandas as pd\n",
    "import sklearn\n",
    "from sklearn.feature_extraction.text import CountVectorizer\n",
    "from sklearn.feature_extraction.text import TfidfVectorizer\n",
    "from sklearn.decomposition import TruncatedSVD\n",
    "\n",
    "from sklearn.manifold import TSNE\n",
    "from sklearn.cluster import AgglomerativeClustering\n",
    "import matplotlib.pyplot as plt\n",
    "\n",
    "from collections import Counter\n",
    "\n",
    "%matplotlib inline"
   ]
  },
  {
   "cell_type": "code",
   "execution_count": 2,
   "metadata": {},
   "outputs": [],
   "source": [
    "data_path = '../data'\n",
    "\n",
    "user_feature_path = data_path + \"/user_features.pkl\"\n",
    "troll_feature_path = data_path + \"/troll_features.pkl\""
   ]
  },
  {
   "cell_type": "code",
   "execution_count": 3,
   "metadata": {},
   "outputs": [],
   "source": [
    "def getDataFromPickle(path):\n",
    "    f = open(path, 'rb')\n",
    "    return pickle.load(f)"
   ]
  },
  {
   "cell_type": "code",
   "execution_count": 4,
   "metadata": {},
   "outputs": [],
   "source": [
    "user_feature_list = getDataFromPickle(user_feature_path)\n",
    "troll_feature_list = getDataFromPickle(troll_feature_path)"
   ]
  },
  {
   "cell_type": "code",
   "execution_count": 5,
   "metadata": {},
   "outputs": [],
   "source": [
    "# Tweet Length\n",
    "\n",
    "def tweet_length_average(tag_list):\n",
    "    count = len(tag_list)\n",
    "    total_length = 0\n",
    "    for l in tag_list:\n",
    "        tweet = l[\"text\"]\n",
    "        total_length = total_length + len(tweet)\n",
    "    return total_length/count"
   ]
  },
  {
   "cell_type": "code",
   "execution_count": 6,
   "metadata": {},
   "outputs": [
    {
     "name": "stdout",
     "output_type": "stream",
     "text": [
      "User Length - 78.6326408\n",
      "Troll Length - 81.55916532433525\n"
     ]
    }
   ],
   "source": [
    "print(\"User Length - \"  + str(tweet_length_average(user_feature_list)))\n",
    "print(\"Troll Length - \"  + str(tweet_length_average(troll_feature_list)))"
   ]
  },
  {
   "cell_type": "code",
   "execution_count": 7,
   "metadata": {},
   "outputs": [],
   "source": [
    "# Content Check\n",
    "\n",
    "def tweet_ratio(tag_list, content):\n",
    "    cnt = content.lower()\n",
    "    count = len(tag_list)\n",
    "    content_count = 0\n",
    "    for l in tag_list:\n",
    "        tweet = l[content]\n",
    "        content_count = content_count + tweet\n",
    "    return content_count / count"
   ]
  },
  {
   "cell_type": "code",
   "execution_count": 8,
   "metadata": {},
   "outputs": [
    {
     "name": "stdout",
     "output_type": "stream",
     "text": [
      "User emoji - 4.1637813016123366e-05\n",
      "Troll emoji - 0.002770416088366957\n"
     ]
    }
   ],
   "source": [
    "print(\"User emoji - \"  + str(tweet_ratio(user_feature_list, \"emoji_ratio\")))\n",
    "print(\"Troll emoji - \"  + str(tweet_ratio(troll_feature_list, \"emoji_ratio\")))"
   ]
  },
  {
   "cell_type": "code",
   "execution_count": 9,
   "metadata": {},
   "outputs": [
    {
     "name": "stdout",
     "output_type": "stream",
     "text": [
      "User link - 0.026402727728233225\n",
      "Troll link - 0.06927286467383098\n"
     ]
    }
   ],
   "source": [
    "print(\"User link - \"  + str(tweet_ratio(user_feature_list, \"link_ratio\")))\n",
    "print(\"Troll link - \"  + str(tweet_ratio(troll_feature_list, \"link_ratio\")))"
   ]
  },
  {
   "cell_type": "code",
   "execution_count": 10,
   "metadata": {},
   "outputs": [
    {
     "name": "stdout",
     "output_type": "stream",
     "text": [
      "User mentions - 0.029716354446216883\n",
      "Troll mentions - 0.034544102036425044\n"
     ]
    }
   ],
   "source": [
    "print(\"User mentions - \"  + str(tweet_ratio(user_feature_list, \"user_ratio\")))\n",
    "print(\"Troll mentions - \"  + str(tweet_ratio(troll_feature_list, \"user_ratio\")))"
   ]
  },
  {
   "cell_type": "code",
   "execution_count": 11,
   "metadata": {},
   "outputs": [
    {
     "name": "stdout",
     "output_type": "stream",
     "text": [
      "User OOV - 0.14487496356507615\n",
      "Troll OOV - 0.12870352653639627\n"
     ]
    }
   ],
   "source": [
    "print(\"User OOV - \"  + str(tweet_ratio(user_feature_list, \"oov_ratio\")))\n",
    "print(\"Troll OOV - \"  + str(tweet_ratio(troll_feature_list, \"oov_ratio\")))"
   ]
  },
  {
   "cell_type": "code",
   "execution_count": 16,
   "metadata": {},
   "outputs": [],
   "source": [
    "def tweet_content_count(tag_list, content):\n",
    "    cnt = content.lower()\n",
    "    count = len(tag_list)\n",
    "    content_count = 0\n",
    "    for l in tag_list:\n",
    "        tweet = len(l[content])\n",
    "        content_count = content_count + tweet\n",
    "    return content_count / count"
   ]
  },
  {
   "cell_type": "code",
   "execution_count": 18,
   "metadata": {},
   "outputs": [
    {
     "name": "stdout",
     "output_type": "stream",
     "text": [
      "User OOV Count - 8.8745992\n",
      "Troll OOV Count - 7.484375834981029\n"
     ]
    }
   ],
   "source": [
    "print(\"User OOV Count - \"  + str(tweet_content_count(user_feature_list, 'oov_words')))\n",
    "print(\"Troll OOV Count - \"  + str(tweet_content_count(troll_feature_list, 'oov_words')))"
   ]
  },
  {
   "cell_type": "code",
   "execution_count": 20,
   "metadata": {},
   "outputs": [
    {
     "name": "stdout",
     "output_type": "stream",
     "text": [
      "User Hashtag Count - 0.163634\n",
      "Troll Hashtag Count - 0.6883760143826675\n"
     ]
    }
   ],
   "source": [
    "print(\"User Hashtag Count - \"  + str(tweet_content_count(user_feature_list, 'hashtags')))\n",
    "print(\"Troll Hashtag Count - \"  + str(tweet_content_count(troll_feature_list, 'hashtags')))"
   ]
  },
  {
   "cell_type": "code",
   "execution_count": 31,
   "metadata": {},
   "outputs": [],
   "source": [
    "def find_top_10_persons(tag_list):\n",
    "    diction = {}\n",
    "    for l in tag_list:\n",
    "        entities = l['entities']\n",
    "        for e in entities:\n",
    "            if e.endswith(\":PERSON\"):\n",
    "                word = e.replace(\":PERSON\", \"\")\n",
    "                if word not in diction:\n",
    "                    diction[word] = 0\n",
    "                diction[word] = diction[word] + 1\n",
    "    d = Counter(diction)\n",
    "    list_person = []\n",
    "    for k, v in d.most_common(10):\n",
    "        list_person.append(k)\n",
    "    \n",
    "    \n",
    "    return list_person"
   ]
  },
  {
   "cell_type": "code",
   "execution_count": 36,
   "metadata": {},
   "outputs": [
    {
     "name": "stdout",
     "output_type": "stream",
     "text": [
      "User Most Mentioned Person - ['Lol', 'Obama', 'Michael_Jackson', 'Rihanna', 'Sarah_Palin', 'Austin', 'Chris', 'Lady_Gaga', 'Taylor_Swift', 'Wanna']\n",
      "Troll Most Mentioned Person - ['Hillary', 'Donald_Trump', 'Clinton', 'Trump', 'Obama', 'Hillary_Clinton', 'Putin', 'Bill_Clinton', 'Ted_Cruz', \"Donald_Trump_'s\"]\n"
     ]
    }
   ],
   "source": [
    "print(\"User Most Mentioned Person - \"  + str(find_top_10_persons(user_feature_list)))\n",
    "print(\"Troll Most Mentioned Person - \"  + str(find_top_10_persons(troll_feature_list)))"
   ]
  },
  {
   "cell_type": "code",
   "execution_count": 33,
   "metadata": {},
   "outputs": [],
   "source": [
    "def find_top_10_hashtags(tag_list):\n",
    "    diction = {}\n",
    "    for l in tag_list:\n",
    "        hashtags = l['hashtags']\n",
    "        for h in hashtags:\n",
    "            if h not in diction:\n",
    "                diction[h] = 0\n",
    "            diction[h] = diction[h] + 1\n",
    "    d = Counter(diction)\n",
    "    list_hash = []\n",
    "    for k, v in d.most_common(10):\n",
    "        list_hash.append(k)\n",
    "    \n",
    "    \n",
    "    return list_hash"
   ]
  },
  {
   "cell_type": "code",
   "execution_count": 37,
   "metadata": {},
   "outputs": [
    {
     "name": "stdout",
     "output_type": "stream",
     "text": [
      "User Top 10 Hashtag - ['#39;s', '#fb', '#FF', '#tcot', '#jobs', '#quote', '#followfriday', '#FollowFriday', '#1', '#39;']\n",
      "Troll Top 10 Hashtag - ['#news', '#sports', '#politics', '#world', '#local', '#TopNews', '#MAGA', '#health', '#BlackLivesMatter', '#tcot']\n"
     ]
    }
   ],
   "source": [
    "print(\"User Top 10 Hashtag - \"  + str(find_top_10_hashtags(user_feature_list)))\n",
    "print(\"Troll Top 10 Hashtag - \"  + str(find_top_10_hashtags(troll_feature_list)))"
   ]
  },
  {
   "cell_type": "code",
   "execution_count": 35,
   "metadata": {},
   "outputs": [],
   "source": [
    "def find_top_10_gpe(tag_list):\n",
    "    diction = {}\n",
    "    for l in tag_list:\n",
    "        entities = l['entities']\n",
    "        for e in entities:\n",
    "            if e.endswith(\":GPE\"):\n",
    "                word = e.replace(\":GPE\", \"\")\n",
    "                if word not in diction:\n",
    "                    diction[word] = 0\n",
    "                diction[word] = diction[word] + 1\n",
    "    d = Counter(diction)\n",
    "    list_person = []\n",
    "    for k, v in d.most_common(10):\n",
    "        list_person.append(k)\n",
    "    \n",
    "    \n",
    "    return list_person"
   ]
  },
  {
   "cell_type": "code",
   "execution_count": 38,
   "metadata": {},
   "outputs": [
    {
     "name": "stdout",
     "output_type": "stream",
     "text": [
      "User GPE Count - ['US', 'LA', 'Chicago', 'U.S.', 'New_York', 'Obama', 'America', 'San_Diego', 'Texas', 'Seattle']\n",
      "Troll GPE Count - ['U.S.', 'US', 'America', 'Obama', 'Russia', 'Syria', 'Texas', 'China', 'Iran', 'California']\n"
     ]
    }
   ],
   "source": [
    "print(\"User GPE Count - \"  + str(find_top_10_gpe(user_feature_list)))\n",
    "print(\"Troll GPE Count - \"  + str(find_top_10_gpe(troll_feature_list)))"
   ]
  },
  {
   "cell_type": "code",
   "execution_count": null,
   "metadata": {},
   "outputs": [],
   "source": []
  }
 ],
 "metadata": {
  "kernelspec": {
   "display_name": "Python 3",
   "language": "python",
   "name": "python3"
  },
  "language_info": {
   "codemirror_mode": {
    "name": "ipython",
    "version": 3
   },
   "file_extension": ".py",
   "mimetype": "text/x-python",
   "name": "python",
   "nbconvert_exporter": "python",
   "pygments_lexer": "ipython3",
   "version": "3.7.7"
  }
 },
 "nbformat": 4,
 "nbformat_minor": 5
}
