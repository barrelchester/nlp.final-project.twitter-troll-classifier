{
 "cells": [
  {
   "cell_type": "code",
   "execution_count": 1,
   "metadata": {},
   "outputs": [],
   "source": [
    "import sys, os, re, gzip, json, pickle, shutil, random, joblib\n",
    "\n",
    "import numpy as np\n",
    "import pandas as pd\n",
    "import sklearn\n",
    "from sklearn.feature_extraction.text import CountVectorizer\n",
    "from sklearn.feature_extraction.text import TfidfVectorizer\n",
    "from sklearn.decomposition import TruncatedSVD\n",
    "\n",
    "from sklearn.manifold import TSNE\n",
    "from sklearn.cluster import AgglomerativeClustering\n",
    "import matplotlib.pyplot as plt\n",
    "\n",
    "%matplotlib inline"
   ]
  },
  {
   "cell_type": "code",
   "execution_count": 2,
   "metadata": {},
   "outputs": [],
   "source": [
    "data_path = '../data'\n",
    "\n",
    "user_tag_path = data_path + \"/user_tweets_tagged.pkl\"\n",
    "user_clean_path = data_path + \"/user_tweets_clean.pkl\"\n",
    "troll_tag_path = data_path + \"/troll_tweets_tagged.pkl\"\n",
    "troll_clean_path = data_path + \"/troll_tweets_clean.pkl\""
   ]
  },
  {
   "cell_type": "code",
   "execution_count": 3,
   "metadata": {},
   "outputs": [],
   "source": [
    "def getDataFromPickle(path):\n",
    "    f = open(path, 'rb')\n",
    "    return pickle.load(f)"
   ]
  },
  {
   "cell_type": "code",
   "execution_count": 4,
   "metadata": {},
   "outputs": [],
   "source": [
    "user_tag_list = getDataFromPickle(user_tag_path)\n",
    "user_clean_list = getDataFromPickle(user_clean_path)\n",
    "troll_tag_list = getDataFromPickle(troll_tag_path)\n",
    "troll_clean_list = getDataFromPickle(troll_clean_path)"
   ]
  },
  {
   "cell_type": "code",
   "execution_count": 8,
   "metadata": {},
   "outputs": [],
   "source": [
    "# Tweet Length\n",
    "\n",
    "def tweet_length_average(tag_list):\n",
    "    count = len(tag_list)\n",
    "    total_length = 0\n",
    "    for l in tag_list:\n",
    "        tweet = l.split(\"\\t\")[1]\n",
    "        total_length = total_length + len(tweet)\n",
    "    return total_length/count"
   ]
  },
  {
   "cell_type": "code",
   "execution_count": 9,
   "metadata": {},
   "outputs": [
    {
     "name": "stdout",
     "output_type": "stream",
     "text": [
      "User Length - 78.25548388248467\n",
      "Troll Length - 80.25546749811465\n"
     ]
    }
   ],
   "source": [
    "print(\"User Length - \"  + str(tweet_length_average(user_tag_list)))\n",
    "print(\"Troll Length - \"  + str(tweet_length_average(troll_tag_list)))"
   ]
  },
  {
   "cell_type": "code",
   "execution_count": 14,
   "metadata": {},
   "outputs": [],
   "source": [
    "# Content Check\n",
    "\n",
    "def tweet_content_average(tag_list, content):\n",
    "    cnt = content.lower()\n",
    "    count = len(tag_list)\n",
    "    content_count = 0\n",
    "    for l in tag_list:\n",
    "        tweet = l.split(\"\\t\")[1].lower()\n",
    "        content_count = content_count + tweet.count(cnt)\n",
    "    return content_count / count"
   ]
  },
  {
   "cell_type": "code",
   "execution_count": 15,
   "metadata": {},
   "outputs": [
    {
     "name": "stdout",
     "output_type": "stream",
     "text": [
      "User emoji - 0.0009877682685063575\n",
      "Troll emoji - 0.043545847053156186\n"
     ]
    }
   ],
   "source": [
    "print(\"User emoji - \"  + str(tweet_content_average(user_tag_list, \"<emoji>\") + tweet_content_average(user_tag_list, \"< emoji >\") ))\n",
    "print(\"Troll emoji - \"  + str(tweet_content_average(troll_tag_list, \"<emoji>\") + tweet_content_average(troll_tag_list, \"< emoji >\")))"
   ]
  },
  {
   "cell_type": "code",
   "execution_count": 16,
   "metadata": {},
   "outputs": [
    {
     "name": "stdout",
     "output_type": "stream",
     "text": [
      "User Links - 0.3953271420406142\n",
      "Troll Links - 0.9571310492651555\n"
     ]
    }
   ],
   "source": [
    "print(\"User Links - \"  + str(tweet_content_average(user_tag_list, \"<link>\") + tweet_content_average(user_tag_list, \"< link >\") ))\n",
    "print(\"Troll Links - \"  + str(tweet_content_average(troll_tag_list, \"<link>\") + tweet_content_average(troll_tag_list, \"< link >\")))"
   ]
  },
  {
   "cell_type": "code",
   "execution_count": 17,
   "metadata": {},
   "outputs": [
    {
     "name": "stdout",
     "output_type": "stream",
     "text": [
      "User Mentions - 0.49752776941230764\n",
      "Troll Mentions - 0.3853288326452301\n"
     ]
    }
   ],
   "source": [
    "print(\"User Mentions - \"  + str(tweet_content_average(user_tag_list, \"<user>\") + tweet_content_average(user_tag_list, \"< user >\") ))\n",
    "print(\"Troll Mentions - \"  + str(tweet_content_average(troll_tag_list, \"<user>\") + tweet_content_average(troll_tag_list, \"< user >\")))"
   ]
  },
  {
   "cell_type": "code",
   "execution_count": null,
   "metadata": {},
   "outputs": [],
   "source": []
  }
 ],
 "metadata": {
  "kernelspec": {
   "display_name": "Python 3",
   "language": "python",
   "name": "python3"
  },
  "language_info": {
   "codemirror_mode": {
    "name": "ipython",
    "version": 3
   },
   "file_extension": ".py",
   "mimetype": "text/x-python",
   "name": "python",
   "nbconvert_exporter": "python",
   "pygments_lexer": "ipython3",
   "version": "3.7.7"
  }
 },
 "nbformat": 4,
 "nbformat_minor": 5
}
