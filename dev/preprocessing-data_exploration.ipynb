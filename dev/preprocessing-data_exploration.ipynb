{
 "cells": [
  {
   "cell_type": "code",
   "execution_count": 1,
   "id": "valid-western",
   "metadata": {},
   "outputs": [],
   "source": [
    "import sys\n",
    "#installs"
   ]
  },
  {
   "cell_type": "code",
   "execution_count": 8,
   "id": "sharp-drunk",
   "metadata": {},
   "outputs": [],
   "source": [
    "import os, re, gzip, json, pickle, shutil, random, joblib, csv\n",
    "\n",
    "import numpy as np\n",
    "import matplotlib.pyplot as plt\n",
    "\n",
    "%matplotlib inline"
   ]
  },
  {
   "cell_type": "code",
   "execution_count": 5,
   "id": "coordinated-envelope",
   "metadata": {},
   "outputs": [],
   "source": [
    "data_path = '../data'\n",
    "troll_tweet_path = '%s/russian-troll-tweets' % data_path\n",
    "norm_tweet_path = '%s/twitter_cikm_2010' % data_path\n",
    "\n",
    "#extracted text\n",
    "troll_tweet_texts_path = '%s/troll_tweets.pkl.gz' % data_path\n",
    "norm_tweet_texts_path = '%s/normal_tweets.pkl.gz' % data_path"
   ]
  },
  {
   "cell_type": "code",
   "execution_count": 13,
   "id": "afraid-family",
   "metadata": {},
   "outputs": [],
   "source": [
    "def get_tweets(troll_tweet_path, norm_tweet_path):\n",
    "    troll_tweets = []\n",
    "    badtab=0\n",
    "    badline=0\n",
    "    for fn in os.listdir(troll_tweet_path):\n",
    "        if not fn.endswith('.csv'):\n",
    "            continue\n",
    "        with open('%s/%s' % (troll_tweet_path, fn), 'r', encoding='utf-8', newline='\\n') as csvfile:\n",
    "            reader = csv.reader(csvfile, delimiter=',', quotechar='\"')\n",
    "            header = next(reader)\n",
    "            #external_author_id, author, content, region, language, publish_date, arvested_date, following,\n",
    "            #followers, updates, post_type, account_type, retweet, account_category, new_june_2018, alt_external_id,\n",
    "            # tweet_id, article_url, tco1_step1, tco2_step1, tco3_step1\n",
    "            for fields in reader:\n",
    "                if not len(fields)==21:\n",
    "                    badtab+=1\n",
    "                    continue\n",
    "                text = fields[2].strip()\n",
    "                if not text:\n",
    "                    badline+=1\n",
    "                    continue\n",
    "                troll_tweets.append(text)\n",
    "        print(fn, len(troll_tweets), badtab, badline)\n",
    "        \n",
    "    \n",
    "    #training_set_tweets.txt, training_set_users.txt, test_set_tweets.txt, test_set_users.txt\n",
    "    #15861944\t5766883977\t@techiepalar Please prove to me that you are a real human by following me based on this tweet? I quit TrueTwitValidation & won't use it.\t2009-11-16 09:04:01\n",
    "    norm_tweets = get_norm_tweets('%s/training_set_tweets.txt' % norm_tweet_path)\n",
    "    print('%d norm tweets from training file' % len(norm_tweets))\n",
    "    norm_tweets.extend(get_norm_tweets('%s/test_set_tweets.txt' % norm_tweet_path))\n",
    "    print('%d total norm tweets' % len(norm_tweets))\n",
    "    \n",
    "    \n",
    "    return troll_tweets, norm_tweets\n",
    "\n",
    "            \n",
    "def get_norm_tweets(path):\n",
    "    norm_tweets = []\n",
    "    badtab=0\n",
    "    badline=0\n",
    "    \n",
    "    with open(path, 'r', encoding='utf-8') as f:\n",
    "        for i,line in enumerate(f):\n",
    "            if i%250000==0:\n",
    "                print(i)\n",
    "            if not line.count('\\t')==3:\n",
    "                badtab+=1\n",
    "                continue\n",
    "            line = line.replace('\\n','').split('\\t')[2].strip()\n",
    "            if not line:\n",
    "                badline+=1\n",
    "                continue\n",
    "            norm_tweets.append(line)\n",
    "            \n",
    "    print('bad tabs: %d, bad lines: %d' % (badtab, badline))\n",
    "    \n",
    "    return norm_tweets"
   ]
  },
  {
   "cell_type": "code",
   "execution_count": 14,
   "id": "coral-proposition",
   "metadata": {
    "scrolled": true
   },
   "outputs": [
    {
     "name": "stdout",
     "output_type": "stream",
     "text": [
      "IRAhandle_tweets_1.csv 243891 0 0\n",
      "IRAhandle_tweets_10.csv 501002 0 0\n",
      "IRAhandle_tweets_11.csv 751623 0 0\n",
      "IRAhandle_tweets_12.csv 990973 0 0\n",
      "IRAhandle_tweets_13.csv 1011867 0 0\n",
      "IRAhandle_tweets_2.csv 1262387 0 0\n",
      "IRAhandle_tweets_3.csv 1505289 0 0\n",
      "IRAhandle_tweets_4.csv 1752083 0 0\n",
      "IRAhandle_tweets_5.csv 1969306 0 0\n",
      "IRAhandle_tweets_6.csv 2227356 0 1\n",
      "IRAhandle_tweets_7.csv 2469708 0 1\n",
      "IRAhandle_tweets_8.csv 2712666 0 1\n",
      "IRAhandle_tweets_9.csv 2946206 0 1\n",
      "0\n",
      "250000\n",
      "500000\n",
      "750000\n",
      "1000000\n",
      "1250000\n",
      "1500000\n",
      "1750000\n",
      "2000000\n",
      "2250000\n",
      "2500000\n",
      "2750000\n",
      "3000000\n",
      "3250000\n",
      "3500000\n",
      "3750000\n",
      "bad tabs: 170147, bad lines: 176\n",
      "3675302 norm tweets from training file\n",
      "0\n",
      "250000\n",
      "500000\n",
      "750000\n",
      "1000000\n",
      "1250000\n",
      "1500000\n",
      "1750000\n",
      "2000000\n",
      "2250000\n",
      "2500000\n",
      "2750000\n",
      "3000000\n",
      "3250000\n",
      "3500000\n",
      "3750000\n",
      "4000000\n",
      "4250000\n",
      "4500000\n",
      "4750000\n",
      "5000000\n",
      "bad tabs: 47838, bad lines: 47\n",
      "8783464 total norm tweets\n"
     ]
    }
   ],
   "source": [
    "if not os.path.exists(troll_tweet_texts_path):\n",
    "    troll_tweets, norm_tweets = get_tweets(troll_tweet_path, norm_tweet_path)\n",
    "    \n",
    "    with gzip.open('%s/troll_tweets.pkl.gz' % data_path, 'wb') as oz:\n",
    "        pickle.dump(troll_tweets, oz)\n",
    "        \n",
    "    with gzip.open('%s/normal_tweets.pkl.gz' % data_path, 'wb') as oz:\n",
    "        pickle.dump(norm_tweets, oz)\n",
    "else:\n",
    "    with gzip.open('%s/troll_tweets.pkl.gz' % data_path, 'rb') as fz:\n",
    "        troll_tweets = pickle.load(fz)\n",
    "        \n",
    "    with gzip.open('%s/normal_tweets.pkl.gz' % data_path, 'rb') as fz:\n",
    "        norm_tweets = pickle.load(fz)\n",
    "        \n",
    "len(troll_tweets), len(norm_tweets)"
   ]
  },
  {
   "cell_type": "code",
   "execution_count": null,
   "id": "fourth-antenna",
   "metadata": {},
   "outputs": [],
   "source": [
    "# preproc cleaning \n",
    "# - remove non-english\n",
    "# - replace links with <LINK>, replace usertags with <USER>\n",
    "# - normalize spaces, quotes, double quotes, etc"
   ]
  },
  {
   "cell_type": "code",
   "execution_count": 15,
   "id": "favorite-passenger",
   "metadata": {},
   "outputs": [],
   "source": [
    "# compare histograms\n",
    "# - lens of troll vs normal tweets\n",
    "# - user mentions, link mentions\n",
    "# - given a dict, percent of words in tweet not in the dict"
   ]
  },
  {
   "cell_type": "code",
   "execution_count": 16,
   "id": "bibliographic-harbor",
   "metadata": {},
   "outputs": [],
   "source": [
    "# do ngram frequency analysis"
   ]
  },
  {
   "cell_type": "code",
   "execution_count": null,
   "id": "intense-packet",
   "metadata": {},
   "outputs": [],
   "source": []
  },
  {
   "cell_type": "code",
   "execution_count": null,
   "id": "sharing-triple",
   "metadata": {},
   "outputs": [],
   "source": []
  }
 ],
 "metadata": {
  "kernelspec": {
   "display_name": "Python 3",
   "language": "python",
   "name": "python3"
  },
  "language_info": {
   "codemirror_mode": {
    "name": "ipython",
    "version": 3
   },
   "file_extension": ".py",
   "mimetype": "text/x-python",
   "name": "python",
   "nbconvert_exporter": "python",
   "pygments_lexer": "ipython3",
   "version": "3.9.1"
  }
 },
 "nbformat": 4,
 "nbformat_minor": 5
}
